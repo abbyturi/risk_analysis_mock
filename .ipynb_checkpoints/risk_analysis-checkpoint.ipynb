{
 "cells": [
  {
   "cell_type": "code",
   "execution_count": 2,
   "id": "6e4d90bc-26c5-4aa1-a492-c17a94c69f7a",
   "metadata": {},
   "outputs": [],
   "source": [
    "#imports\n",
    "import pandas as pd\n",
    "import numpy as np\n",
    "from sklearn.model_selection import train_test_split\n",
    "from sklearn.ensemble import RandomForestClassifier\n",
    "from sklearn.metrics import classification_report, confusion_matrix\n",
    "import matplotlib.pyplot as plt\n",
    "import seaborn as sns\n"
   ]
  },
  {
   "cell_type": "code",
   "execution_count": 9,
   "id": "4ff5e90b-1cba-42b4-9f53-7c4c0776b1fc",
   "metadata": {},
   "outputs": [
    {
     "data": {
      "text/html": [
       "<div>\n",
       "<style scoped>\n",
       "    .dataframe tbody tr th:only-of-type {\n",
       "        vertical-align: middle;\n",
       "    }\n",
       "\n",
       "    .dataframe tbody tr th {\n",
       "        vertical-align: top;\n",
       "    }\n",
       "\n",
       "    .dataframe thead th {\n",
       "        text-align: right;\n",
       "    }\n",
       "</style>\n",
       "<table border=\"1\" class=\"dataframe\">\n",
       "  <thead>\n",
       "    <tr style=\"text-align: right;\">\n",
       "      <th></th>\n",
       "      <th>Risk #</th>\n",
       "      <th>The Risk of/That</th>\n",
       "      <th>Likelihood Score</th>\n",
       "      <th>Impact Score</th>\n",
       "    </tr>\n",
       "  </thead>\n",
       "  <tbody>\n",
       "    <tr>\n",
       "      <th>0</th>\n",
       "      <td>1</td>\n",
       "      <td>Maintainance costs</td>\n",
       "      <td>9</td>\n",
       "      <td>1</td>\n",
       "    </tr>\n",
       "    <tr>\n",
       "      <th>1</th>\n",
       "      <td>2</td>\n",
       "      <td>Techn obsolescence</td>\n",
       "      <td>5</td>\n",
       "      <td>2</td>\n",
       "    </tr>\n",
       "    <tr>\n",
       "      <th>2</th>\n",
       "      <td>3</td>\n",
       "      <td>Vendor Lock-In with increased cost of upgrades...</td>\n",
       "      <td>7</td>\n",
       "      <td>4</td>\n",
       "    </tr>\n",
       "    <tr>\n",
       "      <th>3</th>\n",
       "      <td>4</td>\n",
       "      <td>Legal and litigation costs of compliance settl...</td>\n",
       "      <td>9</td>\n",
       "      <td>6</td>\n",
       "    </tr>\n",
       "    <tr>\n",
       "      <th>4</th>\n",
       "      <td>5</td>\n",
       "      <td>Cost Savings through tech efficiency</td>\n",
       "      <td>9</td>\n",
       "      <td>8</td>\n",
       "    </tr>\n",
       "  </tbody>\n",
       "</table>\n",
       "</div>"
      ],
      "text/plain": [
       "   Risk #                                   The Risk of/That  \\\n",
       "0       1                                 Maintainance costs   \n",
       "1       2                                 Techn obsolescence   \n",
       "2       3  Vendor Lock-In with increased cost of upgrades...   \n",
       "3       4  Legal and litigation costs of compliance settl...   \n",
       "4       5               Cost Savings through tech efficiency   \n",
       "\n",
       "   Likelihood Score  Impact Score  \n",
       "0                 9             1  \n",
       "1                 5             2  \n",
       "2                 7             4  \n",
       "3                 9             6  \n",
       "4                 9             8  "
      ]
     },
     "execution_count": 9,
     "metadata": {},
     "output_type": "execute_result"
    }
   ],
   "source": [
    "\n",
    "df_risk_register = pd.read_csv(\"riskregister.csv\")\n",
    "\n",
    "# Preview the first few rows\n",
    "df_risk_register.head()\n"
   ]
  },
  {
   "cell_type": "code",
   "execution_count": 10,
   "id": "823b4c53-6c5c-4692-94ab-ce478ae150b8",
   "metadata": {},
   "outputs": [
    {
     "data": {
      "text/html": [
       "<div>\n",
       "<style scoped>\n",
       "    .dataframe tbody tr th:only-of-type {\n",
       "        vertical-align: middle;\n",
       "    }\n",
       "\n",
       "    .dataframe tbody tr th {\n",
       "        vertical-align: top;\n",
       "    }\n",
       "\n",
       "    .dataframe thead th {\n",
       "        text-align: right;\n",
       "    }\n",
       "</style>\n",
       "<table border=\"1\" class=\"dataframe\">\n",
       "  <thead>\n",
       "    <tr style=\"text-align: right;\">\n",
       "      <th></th>\n",
       "      <th>Risk_ID</th>\n",
       "      <th>Risk_Description</th>\n",
       "      <th>Likelihood_Score</th>\n",
       "      <th>Impact_Score</th>\n",
       "      <th>Severity_Label</th>\n",
       "    </tr>\n",
       "  </thead>\n",
       "  <tbody>\n",
       "    <tr>\n",
       "      <th>0</th>\n",
       "      <td>1</td>\n",
       "      <td>Maintainance costs</td>\n",
       "      <td>9</td>\n",
       "      <td>1</td>\n",
       "      <td>Medium</td>\n",
       "    </tr>\n",
       "    <tr>\n",
       "      <th>1</th>\n",
       "      <td>2</td>\n",
       "      <td>Techn obsolescence</td>\n",
       "      <td>5</td>\n",
       "      <td>2</td>\n",
       "      <td>Medium</td>\n",
       "    </tr>\n",
       "    <tr>\n",
       "      <th>2</th>\n",
       "      <td>3</td>\n",
       "      <td>Vendor Lock-In with increased cost of upgrades...</td>\n",
       "      <td>7</td>\n",
       "      <td>4</td>\n",
       "      <td>Medium</td>\n",
       "    </tr>\n",
       "    <tr>\n",
       "      <th>3</th>\n",
       "      <td>4</td>\n",
       "      <td>Legal and litigation costs of compliance settl...</td>\n",
       "      <td>9</td>\n",
       "      <td>6</td>\n",
       "      <td>High</td>\n",
       "    </tr>\n",
       "    <tr>\n",
       "      <th>4</th>\n",
       "      <td>5</td>\n",
       "      <td>Cost Savings through tech efficiency</td>\n",
       "      <td>9</td>\n",
       "      <td>8</td>\n",
       "      <td>High</td>\n",
       "    </tr>\n",
       "  </tbody>\n",
       "</table>\n",
       "</div>"
      ],
      "text/plain": [
       "   Risk_ID                                   Risk_Description  \\\n",
       "0        1                                 Maintainance costs   \n",
       "1        2                                 Techn obsolescence   \n",
       "2        3  Vendor Lock-In with increased cost of upgrades...   \n",
       "3        4  Legal and litigation costs of compliance settl...   \n",
       "4        5               Cost Savings through tech efficiency   \n",
       "\n",
       "   Likelihood_Score  Impact_Score Severity_Label  \n",
       "0                 9             1         Medium  \n",
       "1                 5             2         Medium  \n",
       "2                 7             4         Medium  \n",
       "3                 9             6           High  \n",
       "4                 9             8           High  "
      ]
     },
     "execution_count": 10,
     "metadata": {},
     "output_type": "execute_result"
    }
   ],
   "source": [
    "# Select and rename relevant columns\n",
    "risk_df = df_risk_register[['Risk #', 'The Risk of/That', 'Likelihood Score', 'Impact Score']].dropna()\n",
    "risk_df.columns = ['Risk_ID', 'Risk_Description', 'Likelihood_Score', 'Impact_Score']\n",
    "\n",
    "# Define severity label based on likelihood and impact scores\n",
    "def classify_severity(row):\n",
    "    if row['Likelihood_Score'] >= 8 and row['Impact_Score'] >= 5:\n",
    "        return 'High'\n",
    "    elif row['Likelihood_Score'] >= 5 or row['Impact_Score'] >= 3:\n",
    "        return 'Medium'\n",
    "    else:\n",
    "        return 'Low'\n",
    "\n",
    "# Apply function to classify severity\n",
    "risk_df['Severity_Label'] = risk_df.apply(classify_severity, axis=1)\n",
    "\n",
    "# View cleaned data\n",
    "risk_df.head()\n"
   ]
  },
  {
   "cell_type": "code",
   "execution_count": 12,
   "id": "a56d1e66-026c-4b49-a5ec-b6411230194a",
   "metadata": {},
   "outputs": [],
   "source": [
    "from sklearn.ensemble import RandomForestClassifier\n",
    "\n",
    "# Define the model\n",
    "model = RandomForestClassifier(n_estimators=100, random_state=42)\n"
   ]
  },
  {
   "cell_type": "code",
   "execution_count": 15,
   "id": "07517b9f-2ff5-4bbe-af91-70842277481a",
   "metadata": {},
   "outputs": [],
   "source": [
    "# Re-select your features and target from the loaded DataFrame\n",
    "X = df_risk_register[['Likelihood Score', 'Impact Score']]\n",
    "y = df_risk_register.apply(\n",
    "    lambda row: 'High' if row['Likelihood Score'] >= 8 and row['Impact Score'] >= 5 \n",
    "    else 'Medium' if row['Likelihood Score'] >= 5 or row['Impact Score'] >= 3 \n",
    "    else 'Low',\n",
    "    axis=1\n",
    ")\n"
   ]
  },
  {
   "cell_type": "code",
   "execution_count": 16,
   "id": "6adde7b1-ed84-476a-934d-871844bb9301",
   "metadata": {},
   "outputs": [
    {
     "name": "stderr",
     "output_type": "stream",
     "text": [
      "C:\\Users\\abina\\miniforge3\\envs\\dsci575\\lib\\site-packages\\sklearn\\model_selection\\_split.py:805: UserWarning: The least populated class in y has only 1 members, which is less than n_splits=5.\n",
      "  warnings.warn(\n"
     ]
    },
    {
     "name": "stdout",
     "output_type": "stream",
     "text": [
      "Mean accuracy (5-fold CV): 0.94\n",
      "Accuracy for each fold: [0.85714286 0.85714286 1.         1.         1.        ]\n"
     ]
    }
   ],
   "source": [
    "from sklearn.model_selection import cross_val_score\n",
    "\n",
    "scores = cross_val_score(model, X, y, cv=5, scoring='accuracy')\n",
    "print(f\"Mean accuracy (5-fold CV): {scores.mean():.2f}\")\n",
    "print(\"Accuracy for each fold:\", scores)\n"
   ]
  },
  {
   "cell_type": "code",
   "execution_count": 17,
   "id": "ee965897-1116-483f-9475-bd9e3e12c954",
   "metadata": {},
   "outputs": [
    {
     "name": "stderr",
     "output_type": "stream",
     "text": [
      "C:\\Users\\abina\\miniforge3\\envs\\dsci575\\lib\\site-packages\\sklearn\\model_selection\\_split.py:805: UserWarning: The least populated class in y has only 1 members, which is less than n_splits=5.\n",
      "  warnings.warn(\n"
     ]
    },
    {
     "name": "stdout",
     "output_type": "stream",
     "text": [
      "Classification Report:\n",
      "              precision    recall  f1-score   support\n",
      "\n",
      "        High       1.00      0.80      0.89         5\n",
      "         Low       0.00      0.00      0.00         1\n",
      "      Medium       0.93      1.00      0.96        26\n",
      "\n",
      "    accuracy                           0.94        32\n",
      "   macro avg       0.64      0.60      0.62        32\n",
      "weighted avg       0.91      0.94      0.92        32\n",
      "\n",
      "Confusion Matrix:\n",
      "[[ 4  0  1]\n",
      " [ 0  0  1]\n",
      " [ 0  0 26]]\n"
     ]
    },
    {
     "name": "stderr",
     "output_type": "stream",
     "text": [
      "C:\\Users\\abina\\miniforge3\\envs\\dsci575\\lib\\site-packages\\sklearn\\metrics\\_classification.py:1565: UndefinedMetricWarning: Precision is ill-defined and being set to 0.0 in labels with no predicted samples. Use `zero_division` parameter to control this behavior.\n",
      "  _warn_prf(average, modifier, f\"{metric.capitalize()} is\", len(result))\n",
      "C:\\Users\\abina\\miniforge3\\envs\\dsci575\\lib\\site-packages\\sklearn\\metrics\\_classification.py:1565: UndefinedMetricWarning: Precision is ill-defined and being set to 0.0 in labels with no predicted samples. Use `zero_division` parameter to control this behavior.\n",
      "  _warn_prf(average, modifier, f\"{metric.capitalize()} is\", len(result))\n",
      "C:\\Users\\abina\\miniforge3\\envs\\dsci575\\lib\\site-packages\\sklearn\\metrics\\_classification.py:1565: UndefinedMetricWarning: Precision is ill-defined and being set to 0.0 in labels with no predicted samples. Use `zero_division` parameter to control this behavior.\n",
      "  _warn_prf(average, modifier, f\"{metric.capitalize()} is\", len(result))\n"
     ]
    }
   ],
   "source": [
    "from sklearn.model_selection import cross_val_predict\n",
    "from sklearn.metrics import classification_report, confusion_matrix\n",
    "\n",
    "# Cross-validated predictions\n",
    "y_pred_cv = cross_val_predict(model, X, y, cv=5)\n",
    "\n",
    "# Classification metrics\n",
    "print(\"Classification Report:\")\n",
    "print(classification_report(y, y_pred_cv))\n",
    "\n",
    "# Confusion Matrix\n",
    "print(\"Confusion Matrix:\")\n",
    "print(confusion_matrix(y, y_pred_cv))\n"
   ]
  },
  {
   "cell_type": "code",
   "execution_count": 19,
   "id": "28fcc25b-1ce7-4855-b792-8f6ac2341a9f",
   "metadata": {},
   "outputs": [
    {
     "data": {
      "image/png": "[encoded data removed]",
      "text/plain": [
       "<Figure size 1000x600 with 2 Axes>"
      ]
     },
     "metadata": {},
     "output_type": "display_data"
    }
   ],
   "source": [
    "import seaborn as sns\n",
    "\n",
    "# Create a pivot table for the heatmap\n",
    "heatmap_data = df_risk_register.groupby(['Likelihood Score', 'Impact Score']).size().unstack(fill_value=0)\n",
    "\n",
    "# Plot heatmap\n",
    "plt.figure(figsize=(10, 6))\n",
    "sns.heatmap(heatmap_data, annot=True, fmt='d', cmap='RdYlGn', linewidths=0.5, cbar_kws={'label': 'Number of Risks'})\n",
    "plt.title(\"Risk Heatmap: Likelihood vs. Impact\")\n",
    "plt.xlabel(\"Impact Score\")\n",
    "plt.ylabel(\"Likelihood Score\")\n",
    "plt.tight_layout()\n",
    "plt.show()\n"
   ]
  },
  {
   "cell_type": "code",
   "execution_count": null,
   "id": "220268af-2687-49d6-bc3a-96f8be62ae95",
   "metadata": {},
   "outputs": [],
   "source": []
  }
 ],
 "metadata": {
  "kernelspec": {
   "display_name": "Python (dsci575)",
   "language": "python",
   "name": "dsci575"
  },
  "language_info": {
   "codemirror_mode": {
    "name": "ipython",
    "version": 3
   },
   "file_extension": ".py",
   "mimetype": "text/x-python",
   "name": "python",
   "nbconvert_exporter": "python",
   "pygments_lexer": "ipython3",
   "version": "3.10.16"
  }
 },
 "nbformat": 4,
 "nbformat_minor": 5
}
